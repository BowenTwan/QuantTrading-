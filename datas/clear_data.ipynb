{
 "metadata": {
  "language_info": {
   "codemirror_mode": {
    "name": "ipython",
    "version": 3
   },
   "file_extension": ".py",
   "mimetype": "text/x-python",
   "name": "python",
   "nbconvert_exporter": "python",
   "pygments_lexer": "ipython3",
   "version": "3.7.6-final"
  },
  "orig_nbformat": 2,
  "kernelspec": {
   "name": "python3",
   "display_name": "Python 3",
   "language": "python"
  }
 },
 "nbformat": 4,
 "nbformat_minor": 2,
 "cells": [
  {
   "cell_type": "code",
   "execution_count": 2,
   "metadata": {},
   "outputs": [
    {
     "output_type": "stream",
     "name": "stdout",
     "text": [
      "Collecting pandas\n",
      "  Using cached pandas-1.2.0-cp37-cp37m-macosx_10_9_x86_64.whl (10.3 MB)\n",
      "Requirement already satisfied: numpy>=1.16.5 in /Users/bowenduan/anaconda3/envs/Python/lib/python3.7/site-packages (from pandas) (1.19.2)\n",
      "Requirement already satisfied: python-dateutil>=2.7.3 in /Users/bowenduan/anaconda3/envs/Python/lib/python3.7/site-packages (from pandas) (2.8.1)\n",
      "Collecting pytz>=2017.3\n",
      "  Downloading pytz-2020.5-py2.py3-none-any.whl (510 kB)\n",
      "\u001b[K     |████████████████████████████████| 510 kB 4.5 MB/s \n",
      "\u001b[?25hRequirement already satisfied: six>=1.5 in /Users/bowenduan/anaconda3/envs/Python/lib/python3.7/site-packages (from python-dateutil>=2.7.3->pandas) (1.15.0)\n",
      "Installing collected packages: pytz, pandas\n",
      "Successfully installed pandas-1.2.0 pytz-2020.5\n",
      "Note: you may need to restart the kernel to use updated packages.\n"
     ]
    }
   ],
   "source": [
    "pip install pandas"
   ]
  },
  {
   "cell_type": "code",
   "execution_count": 12,
   "metadata": {},
   "outputs": [
    {
     "output_type": "execute_result",
     "data": {
      "text/plain": [
       "   Unnamed: 0    ts_code  trade_date   open   high    low  close  pre_close  \\\n",
       "0           0  000002.SZ    20210108  28.98  29.45  28.81  29.34      28.79   \n",
       "1           1  000002.SZ    20210107  29.00  29.50  28.39  28.79      28.75   \n",
       "2           2  000002.SZ    20210106  27.80  28.75  27.73  28.75      27.91   \n",
       "3           3  000002.SZ    20210105  27.78  27.93  27.10  27.91      27.78   \n",
       "4           4  000002.SZ    20210104  28.40  28.40  27.52  27.78      28.70   \n",
       "\n",
       "   change  pct_chg         vol       amount  \n",
       "0    0.55   1.9104  1028563.29  3000845.603  \n",
       "1    0.04   0.1391  1226755.74  3544224.002  \n",
       "2    0.84   3.0097  1048801.29  2972572.549  \n",
       "3    0.13   0.4680  1162658.38  3189607.202  \n",
       "4   -0.92  -3.2056  1468441.33  4079416.859  "
      ],
      "text/html": "<div>\n<style scoped>\n    .dataframe tbody tr th:only-of-type {\n        vertical-align: middle;\n    }\n\n    .dataframe tbody tr th {\n        vertical-align: top;\n    }\n\n    .dataframe thead th {\n        text-align: right;\n    }\n</style>\n<table border=\"1\" class=\"dataframe\">\n  <thead>\n    <tr style=\"text-align: right;\">\n      <th></th>\n      <th>Unnamed: 0</th>\n      <th>ts_code</th>\n      <th>trade_date</th>\n      <th>open</th>\n      <th>high</th>\n      <th>low</th>\n      <th>close</th>\n      <th>pre_close</th>\n      <th>change</th>\n      <th>pct_chg</th>\n      <th>vol</th>\n      <th>amount</th>\n    </tr>\n  </thead>\n  <tbody>\n    <tr>\n      <th>0</th>\n      <td>0</td>\n      <td>000002.SZ</td>\n      <td>20210108</td>\n      <td>28.98</td>\n      <td>29.45</td>\n      <td>28.81</td>\n      <td>29.34</td>\n      <td>28.79</td>\n      <td>0.55</td>\n      <td>1.9104</td>\n      <td>1028563.29</td>\n      <td>3000845.603</td>\n    </tr>\n    <tr>\n      <th>1</th>\n      <td>1</td>\n      <td>000002.SZ</td>\n      <td>20210107</td>\n      <td>29.00</td>\n      <td>29.50</td>\n      <td>28.39</td>\n      <td>28.79</td>\n      <td>28.75</td>\n      <td>0.04</td>\n      <td>0.1391</td>\n      <td>1226755.74</td>\n      <td>3544224.002</td>\n    </tr>\n    <tr>\n      <th>2</th>\n      <td>2</td>\n      <td>000002.SZ</td>\n      <td>20210106</td>\n      <td>27.80</td>\n      <td>28.75</td>\n      <td>27.73</td>\n      <td>28.75</td>\n      <td>27.91</td>\n      <td>0.84</td>\n      <td>3.0097</td>\n      <td>1048801.29</td>\n      <td>2972572.549</td>\n    </tr>\n    <tr>\n      <th>3</th>\n      <td>3</td>\n      <td>000002.SZ</td>\n      <td>20210105</td>\n      <td>27.78</td>\n      <td>27.93</td>\n      <td>27.10</td>\n      <td>27.91</td>\n      <td>27.78</td>\n      <td>0.13</td>\n      <td>0.4680</td>\n      <td>1162658.38</td>\n      <td>3189607.202</td>\n    </tr>\n    <tr>\n      <th>4</th>\n      <td>4</td>\n      <td>000002.SZ</td>\n      <td>20210104</td>\n      <td>28.40</td>\n      <td>28.40</td>\n      <td>27.52</td>\n      <td>27.78</td>\n      <td>28.70</td>\n      <td>-0.92</td>\n      <td>-3.2056</td>\n      <td>1468441.33</td>\n      <td>4079416.859</td>\n    </tr>\n  </tbody>\n</table>\n</div>"
     },
     "metadata": {},
     "execution_count": 12
    }
   ],
   "source": [
    "import pandas as pd\n",
    "df = pd.read_csv('data.csv')\n",
    "df.head()"
   ]
  },
  {
   "cell_type": "code",
   "execution_count": 13,
   "metadata": {},
   "outputs": [
    {
     "output_type": "execute_result",
     "data": {
      "text/plain": [
       "     Unnamed: 0    ts_code  trade_date   open   high    low  close  pre_close  \\\n",
       "0             0  000002.SZ    20210108  28.98  29.45  28.81  29.34      28.79   \n",
       "1             1  000002.SZ    20210107  29.00  29.50  28.39  28.79      28.75   \n",
       "2             2  000002.SZ    20210106  27.80  28.75  27.73  28.75      27.91   \n",
       "3             3  000002.SZ    20210105  27.78  27.93  27.10  27.91      27.78   \n",
       "4             4  000002.SZ    20210104  28.40  28.40  27.52  27.78      28.70   \n",
       "..          ...        ...         ...    ...    ...    ...    ...        ...   \n",
       "611         611  000002.SZ    20180706  23.34  23.60  22.65  23.21      23.05   \n",
       "612         612  000002.SZ    20180705  23.02  23.41  22.85  23.05      23.00   \n",
       "613         613  000002.SZ    20180704  23.46  23.75  23.00  23.00      23.42   \n",
       "614         614  000002.SZ    20180703  23.10  23.48  22.80  23.42      22.80   \n",
       "615         615  000002.SZ    20180702  24.50  24.55  22.52  22.80      24.60   \n",
       "\n",
       "     change  pct_chg         vol       amount       Date  \n",
       "0      0.55   1.9104  1028563.29  3000845.603 2021-01-08  \n",
       "1      0.04   0.1391  1226755.74  3544224.002 2021-01-07  \n",
       "2      0.84   3.0097  1048801.29  2972572.549 2021-01-06  \n",
       "3      0.13   0.4680  1162658.38  3189607.202 2021-01-05  \n",
       "4     -0.92  -3.2056  1468441.33  4079416.859 2021-01-04  \n",
       "..      ...      ...         ...          ...        ...  \n",
       "611    0.16   0.6900   346930.01   805107.096 2018-07-06  \n",
       "612    0.05   0.2200   267278.61   619393.007 2018-07-05  \n",
       "613   -0.42  -1.7900   249881.03   582470.214 2018-07-04  \n",
       "614    0.62   2.7200   549964.88  1274023.575 2018-07-03  \n",
       "615   -1.80  -7.3200   846203.86  1981131.638 2018-07-02  \n",
       "\n",
       "[616 rows x 13 columns]"
      ],
      "text/html": "<div>\n<style scoped>\n    .dataframe tbody tr th:only-of-type {\n        vertical-align: middle;\n    }\n\n    .dataframe tbody tr th {\n        vertical-align: top;\n    }\n\n    .dataframe thead th {\n        text-align: right;\n    }\n</style>\n<table border=\"1\" class=\"dataframe\">\n  <thead>\n    <tr style=\"text-align: right;\">\n      <th></th>\n      <th>Unnamed: 0</th>\n      <th>ts_code</th>\n      <th>trade_date</th>\n      <th>open</th>\n      <th>high</th>\n      <th>low</th>\n      <th>close</th>\n      <th>pre_close</th>\n      <th>change</th>\n      <th>pct_chg</th>\n      <th>vol</th>\n      <th>amount</th>\n      <th>Date</th>\n    </tr>\n  </thead>\n  <tbody>\n    <tr>\n      <th>0</th>\n      <td>0</td>\n      <td>000002.SZ</td>\n      <td>20210108</td>\n      <td>28.98</td>\n      <td>29.45</td>\n      <td>28.81</td>\n      <td>29.34</td>\n      <td>28.79</td>\n      <td>0.55</td>\n      <td>1.9104</td>\n      <td>1028563.29</td>\n      <td>3000845.603</td>\n      <td>2021-01-08</td>\n    </tr>\n    <tr>\n      <th>1</th>\n      <td>1</td>\n      <td>000002.SZ</td>\n      <td>20210107</td>\n      <td>29.00</td>\n      <td>29.50</td>\n      <td>28.39</td>\n      <td>28.79</td>\n      <td>28.75</td>\n      <td>0.04</td>\n      <td>0.1391</td>\n      <td>1226755.74</td>\n      <td>3544224.002</td>\n      <td>2021-01-07</td>\n    </tr>\n    <tr>\n      <th>2</th>\n      <td>2</td>\n      <td>000002.SZ</td>\n      <td>20210106</td>\n      <td>27.80</td>\n      <td>28.75</td>\n      <td>27.73</td>\n      <td>28.75</td>\n      <td>27.91</td>\n      <td>0.84</td>\n      <td>3.0097</td>\n      <td>1048801.29</td>\n      <td>2972572.549</td>\n      <td>2021-01-06</td>\n    </tr>\n    <tr>\n      <th>3</th>\n      <td>3</td>\n      <td>000002.SZ</td>\n      <td>20210105</td>\n      <td>27.78</td>\n      <td>27.93</td>\n      <td>27.10</td>\n      <td>27.91</td>\n      <td>27.78</td>\n      <td>0.13</td>\n      <td>0.4680</td>\n      <td>1162658.38</td>\n      <td>3189607.202</td>\n      <td>2021-01-05</td>\n    </tr>\n    <tr>\n      <th>4</th>\n      <td>4</td>\n      <td>000002.SZ</td>\n      <td>20210104</td>\n      <td>28.40</td>\n      <td>28.40</td>\n      <td>27.52</td>\n      <td>27.78</td>\n      <td>28.70</td>\n      <td>-0.92</td>\n      <td>-3.2056</td>\n      <td>1468441.33</td>\n      <td>4079416.859</td>\n      <td>2021-01-04</td>\n    </tr>\n    <tr>\n      <th>...</th>\n      <td>...</td>\n      <td>...</td>\n      <td>...</td>\n      <td>...</td>\n      <td>...</td>\n      <td>...</td>\n      <td>...</td>\n      <td>...</td>\n      <td>...</td>\n      <td>...</td>\n      <td>...</td>\n      <td>...</td>\n      <td>...</td>\n    </tr>\n    <tr>\n      <th>611</th>\n      <td>611</td>\n      <td>000002.SZ</td>\n      <td>20180706</td>\n      <td>23.34</td>\n      <td>23.60</td>\n      <td>22.65</td>\n      <td>23.21</td>\n      <td>23.05</td>\n      <td>0.16</td>\n      <td>0.6900</td>\n      <td>346930.01</td>\n      <td>805107.096</td>\n      <td>2018-07-06</td>\n    </tr>\n    <tr>\n      <th>612</th>\n      <td>612</td>\n      <td>000002.SZ</td>\n      <td>20180705</td>\n      <td>23.02</td>\n      <td>23.41</td>\n      <td>22.85</td>\n      <td>23.05</td>\n      <td>23.00</td>\n      <td>0.05</td>\n      <td>0.2200</td>\n      <td>267278.61</td>\n      <td>619393.007</td>\n      <td>2018-07-05</td>\n    </tr>\n    <tr>\n      <th>613</th>\n      <td>613</td>\n      <td>000002.SZ</td>\n      <td>20180704</td>\n      <td>23.46</td>\n      <td>23.75</td>\n      <td>23.00</td>\n      <td>23.00</td>\n      <td>23.42</td>\n      <td>-0.42</td>\n      <td>-1.7900</td>\n      <td>249881.03</td>\n      <td>582470.214</td>\n      <td>2018-07-04</td>\n    </tr>\n    <tr>\n      <th>614</th>\n      <td>614</td>\n      <td>000002.SZ</td>\n      <td>20180703</td>\n      <td>23.10</td>\n      <td>23.48</td>\n      <td>22.80</td>\n      <td>23.42</td>\n      <td>22.80</td>\n      <td>0.62</td>\n      <td>2.7200</td>\n      <td>549964.88</td>\n      <td>1274023.575</td>\n      <td>2018-07-03</td>\n    </tr>\n    <tr>\n      <th>615</th>\n      <td>615</td>\n      <td>000002.SZ</td>\n      <td>20180702</td>\n      <td>24.50</td>\n      <td>24.55</td>\n      <td>22.52</td>\n      <td>22.80</td>\n      <td>24.60</td>\n      <td>-1.80</td>\n      <td>-7.3200</td>\n      <td>846203.86</td>\n      <td>1981131.638</td>\n      <td>2018-07-02</td>\n    </tr>\n  </tbody>\n</table>\n<p>616 rows × 13 columns</p>\n</div>"
     },
     "metadata": {},
     "execution_count": 13
    }
   ],
   "source": [
    "df['Date'] = df['trade_date'].apply(lambda x: pd.to_datetime(str(x), format='%Y%m%d'))\n",
    "df"
   ]
  },
  {
   "cell_type": "code",
   "execution_count": 19,
   "metadata": {},
   "outputs": [],
   "source": [
    "df.sort_values(by = 'Date', ascending=True).to_csv('data_clear.csv')"
   ]
  },
  {
   "cell_type": "code",
   "execution_count": 15,
   "metadata": {},
   "outputs": [],
   "source": [
    "df[2:].to_csv('data_clear.csv')"
   ]
  },
  {
   "cell_type": "code",
   "execution_count": null,
   "metadata": {},
   "outputs": [],
   "source": []
  }
 ]
}