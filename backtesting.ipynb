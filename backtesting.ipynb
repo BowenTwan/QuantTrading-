{
 "metadata": {
  "language_info": {
   "codemirror_mode": {
    "name": "ipython",
    "version": 3
   },
   "file_extension": ".py",
   "mimetype": "text/x-python",
   "name": "python",
   "nbconvert_exporter": "python",
   "pygments_lexer": "ipython3",
   "version": "3.7.4-final"
  },
  "orig_nbformat": 2,
  "kernelspec": {
   "name": "python3",
   "display_name": "Python 3",
   "language": "python"
  }
 },
 "nbformat": 4,
 "nbformat_minor": 2,
 "cells": [
  {
   "cell_type": "code",
   "execution_count": 9,
   "metadata": {},
   "outputs": [
    {
     "output_type": "stream",
     "name": "stdout",
     "text": [
      "Requirement already satisfied: PyQt5 in /Users/bowenduan/anaconda3/lib/python3.7/site-packages (5.15.2)\n",
      "Requirement already satisfied: PyQt5-sip<13,>=12.8 in /Users/bowenduan/anaconda3/lib/python3.7/site-packages (from PyQt5) (12.8.1)\n",
      "Note: you may need to restart the kernel to use updated packages.\n"
     ]
    }
   ],
   "source": [
    "pip install PyQt5"
   ]
  },
  {
   "cell_type": "code",
   "execution_count": 3,
   "metadata": {},
   "outputs": [
    {
     "output_type": "error",
     "ename": "SyntaxError",
     "evalue": "invalid syntax (<ipython-input-3-cb879f2f8f4d>, line 1)",
     "traceback": [
      "\u001b[0;36m  File \u001b[0;32m\"<ipython-input-3-cb879f2f8f4d>\"\u001b[0;36m, line \u001b[0;32m1\u001b[0m\n\u001b[0;31m    pip install PyQt5\u001b[0m\n\u001b[0m              ^\u001b[0m\n\u001b[0;31mSyntaxError\u001b[0m\u001b[0;31m:\u001b[0m invalid syntax\n"
     ]
    }
   ],
   "source": [
    "pip install matplotlib==3.2.2\n",
    "pip install requests\n",
    "pip install backtrader"
   ]
  },
  {
   "cell_type": "code",
   "execution_count": 3,
   "metadata": {},
   "outputs": [
    {
     "output_type": "error",
     "ename": "ImportError",
     "evalue": "Cannot load backend 'Qt5Agg' which requires the 'qt5' interactive framework, as 'macosx' is currently running",
     "traceback": [
      "\u001b[0;31m---------------------------------------------------------------------------\u001b[0m",
      "\u001b[0;31mImportError\u001b[0m                               Traceback (most recent call last)",
      "\u001b[0;32m<ipython-input-3-62034906829d>\u001b[0m in \u001b[0;36m<module>\u001b[0;34m\u001b[0m\n\u001b[1;32m     37\u001b[0m \u001b[0mcerebro\u001b[0m\u001b[0;34m.\u001b[0m\u001b[0mrun\u001b[0m\u001b[0;34m(\u001b[0m\u001b[0;34m)\u001b[0m  \u001b[0;31m# run it all\u001b[0m\u001b[0;34m\u001b[0m\u001b[0;34m\u001b[0m\u001b[0m\n\u001b[1;32m     38\u001b[0m \u001b[0;34m\u001b[0m\u001b[0m\n\u001b[0;32m---> 39\u001b[0;31m \u001b[0mmatplotlib\u001b[0m\u001b[0;34m.\u001b[0m\u001b[0muse\u001b[0m\u001b[0;34m(\u001b[0m\u001b[0;34m'Qt5Agg'\u001b[0m\u001b[0;34m)\u001b[0m\u001b[0;34m\u001b[0m\u001b[0;34m\u001b[0m\u001b[0m\n\u001b[0m\u001b[1;32m     40\u001b[0m \u001b[0mplt\u001b[0m\u001b[0;34m.\u001b[0m\u001b[0mswitch_backend\u001b[0m\u001b[0;34m(\u001b[0m\u001b[0;34m'Qt5Agg'\u001b[0m\u001b[0;34m)\u001b[0m\u001b[0;34m\u001b[0m\u001b[0;34m\u001b[0m\u001b[0m\n\u001b[1;32m     41\u001b[0m \u001b[0;34m\u001b[0m\u001b[0m\n",
      "\u001b[0;32m~/anaconda3/lib/python3.7/site-packages/matplotlib/cbook/deprecation.py\u001b[0m in \u001b[0;36mwrapper\u001b[0;34m(*args, **kwargs)\u001b[0m\n\u001b[1;32m    294\u001b[0m                 f\"for the old name will be dropped %(removal)s.\")\n\u001b[1;32m    295\u001b[0m             \u001b[0mkwargs\u001b[0m\u001b[0;34m[\u001b[0m\u001b[0mnew\u001b[0m\u001b[0;34m]\u001b[0m \u001b[0;34m=\u001b[0m \u001b[0mkwargs\u001b[0m\u001b[0;34m.\u001b[0m\u001b[0mpop\u001b[0m\u001b[0;34m(\u001b[0m\u001b[0mold\u001b[0m\u001b[0;34m)\u001b[0m\u001b[0;34m\u001b[0m\u001b[0;34m\u001b[0m\u001b[0m\n\u001b[0;32m--> 296\u001b[0;31m         \u001b[0;32mreturn\u001b[0m \u001b[0mfunc\u001b[0m\u001b[0;34m(\u001b[0m\u001b[0;34m*\u001b[0m\u001b[0margs\u001b[0m\u001b[0;34m,\u001b[0m \u001b[0;34m**\u001b[0m\u001b[0mkwargs\u001b[0m\u001b[0;34m)\u001b[0m\u001b[0;34m\u001b[0m\u001b[0;34m\u001b[0m\u001b[0m\n\u001b[0m\u001b[1;32m    297\u001b[0m \u001b[0;34m\u001b[0m\u001b[0m\n\u001b[1;32m    298\u001b[0m     \u001b[0;31m# wrapper() must keep the same documented signature as func(): if we\u001b[0m\u001b[0;34m\u001b[0m\u001b[0;34m\u001b[0m\u001b[0;34m\u001b[0m\u001b[0m\n",
      "\u001b[0;32m~/anaconda3/lib/python3.7/site-packages/matplotlib/cbook/deprecation.py\u001b[0m in \u001b[0;36mwrapper\u001b[0;34m(*args, **kwargs)\u001b[0m\n\u001b[1;32m    356\u001b[0m                 \u001b[0;34mf\"%(removal)s.  If any parameter follows {name!r}, they \"\u001b[0m\u001b[0;34m\u001b[0m\u001b[0;34m\u001b[0m\u001b[0m\n\u001b[1;32m    357\u001b[0m                 f\"should be pass as keyword, not positionally.\")\n\u001b[0;32m--> 358\u001b[0;31m         \u001b[0;32mreturn\u001b[0m \u001b[0mfunc\u001b[0m\u001b[0;34m(\u001b[0m\u001b[0;34m*\u001b[0m\u001b[0margs\u001b[0m\u001b[0;34m,\u001b[0m \u001b[0;34m**\u001b[0m\u001b[0mkwargs\u001b[0m\u001b[0;34m)\u001b[0m\u001b[0;34m\u001b[0m\u001b[0;34m\u001b[0m\u001b[0m\n\u001b[0m\u001b[1;32m    359\u001b[0m \u001b[0;34m\u001b[0m\u001b[0m\n\u001b[1;32m    360\u001b[0m     \u001b[0;32mreturn\u001b[0m \u001b[0mwrapper\u001b[0m\u001b[0;34m\u001b[0m\u001b[0;34m\u001b[0m\u001b[0m\n",
      "\u001b[0;32m~/anaconda3/lib/python3.7/site-packages/matplotlib/__init__.py\u001b[0m in \u001b[0;36muse\u001b[0;34m(backend, warn, force)\u001b[0m\n\u001b[1;32m   1279\u001b[0m         \u001b[0;32mtry\u001b[0m\u001b[0;34m:\u001b[0m\u001b[0;34m\u001b[0m\u001b[0;34m\u001b[0m\u001b[0m\n\u001b[1;32m   1280\u001b[0m             \u001b[0;32mfrom\u001b[0m \u001b[0mmatplotlib\u001b[0m \u001b[0;32mimport\u001b[0m \u001b[0mpyplot\u001b[0m \u001b[0;32mas\u001b[0m \u001b[0mplt\u001b[0m\u001b[0;34m\u001b[0m\u001b[0;34m\u001b[0m\u001b[0m\n\u001b[0;32m-> 1281\u001b[0;31m             \u001b[0mplt\u001b[0m\u001b[0;34m.\u001b[0m\u001b[0mswitch_backend\u001b[0m\u001b[0;34m(\u001b[0m\u001b[0mname\u001b[0m\u001b[0;34m)\u001b[0m\u001b[0;34m\u001b[0m\u001b[0;34m\u001b[0m\u001b[0m\n\u001b[0m\u001b[1;32m   1282\u001b[0m         \u001b[0;32mexcept\u001b[0m \u001b[0mImportError\u001b[0m \u001b[0;32mas\u001b[0m \u001b[0mexc\u001b[0m\u001b[0;34m:\u001b[0m\u001b[0;34m\u001b[0m\u001b[0;34m\u001b[0m\u001b[0m\n\u001b[1;32m   1283\u001b[0m             \u001b[0;32mif\u001b[0m \u001b[0mforce\u001b[0m\u001b[0;34m:\u001b[0m\u001b[0;34m\u001b[0m\u001b[0;34m\u001b[0m\u001b[0m\n",
      "\u001b[0;32m~/anaconda3/lib/python3.7/site-packages/matplotlib/pyplot.py\u001b[0m in \u001b[0;36mswitch_backend\u001b[0;34m(newbackend)\u001b[0m\n\u001b[1;32m    235\u001b[0m                 \u001b[0;34m\"Cannot load backend {!r} which requires the {!r} interactive \"\u001b[0m\u001b[0;34m\u001b[0m\u001b[0;34m\u001b[0m\u001b[0m\n\u001b[1;32m    236\u001b[0m                 \"framework, as {!r} is currently running\".format(\n\u001b[0;32m--> 237\u001b[0;31m                     newbackend, required_framework, current_framework))\n\u001b[0m\u001b[1;32m    238\u001b[0m \u001b[0;34m\u001b[0m\u001b[0m\n\u001b[1;32m    239\u001b[0m     \u001b[0mrcParams\u001b[0m\u001b[0;34m[\u001b[0m\u001b[0;34m'backend'\u001b[0m\u001b[0;34m]\u001b[0m \u001b[0;34m=\u001b[0m \u001b[0mrcParamsDefault\u001b[0m\u001b[0;34m[\u001b[0m\u001b[0;34m'backend'\u001b[0m\u001b[0;34m]\u001b[0m \u001b[0;34m=\u001b[0m \u001b[0mnewbackend\u001b[0m\u001b[0;34m\u001b[0m\u001b[0;34m\u001b[0m\u001b[0m\n",
      "\u001b[0;31mImportError\u001b[0m: Cannot load backend 'Qt5Agg' which requires the 'qt5' interactive framework, as 'macosx' is currently running"
     ]
    }
   ],
   "source": [
    "from datetime import datetime\n",
    "import backtrader as bt\n",
    "import matplotlib\n",
    "import matplotlib.pyplot as plt\n",
    "%matplotlib inline\n",
    "\n",
    "class SmaCross(bt.Strategy):\n",
    "    # list of parameters which are configurable for the strategy\n",
    "    params = dict(\n",
    "        pfast=10,  # period for the fast moving average\n",
    "        pslow=30   # period for the slow moving average\n",
    "    )\n",
    "\n",
    "    def __init__(self):\n",
    "        sma1 = bt.ind.SMA(period=self.p.pfast)  # fast moving average\n",
    "        sma2 = bt.ind.SMA(period=self.p.pslow)  # slow moving average\n",
    "        self.crossover = bt.ind.CrossOver(sma1, sma2)  # crossover signal\n",
    "\n",
    "    def next(self):\n",
    "        if not self.position:  # not in the market\n",
    "            if self.crossover > 0:  # if fast crosses slow to the upside\n",
    "                self.buy()  # enter long\n",
    "\n",
    "        elif self.crossover < 0:  # in the market & cross to the downside\n",
    "            self.close()  # close long position\n",
    "\n",
    "cerebro = bt.Cerebro()  # create a \"Cerebro\" engine instance\n",
    "\n",
    "# Create a data feed\n",
    "data = bt.feeds.YahooFinanceData(dataname='AAPL',\n",
    "                                 fromdate=datetime(2019, 1, 1),\n",
    "                                 todate=datetime(2019, 6, 1))\n",
    "\n",
    "cerebro.adddata(data)  # Add the data feed\n",
    "\n",
    "cerebro.addstrategy(SmaCross)  # Add the trading strategy\n",
    "cerebro.run()  # run it all\n",
    "\n",
    "matplotlib.use('Qt5Agg')\n",
    "plt.switch_backend('Qt5Agg')\n",
    "\n",
    "cerebro.plot(height = 30, iplot = False)\n",
    "plt.show()\n",
    "#cerebro.plot()  # and plot it with a single command\\\n",
    "\n",
    "import backtrader.analyzers as btanalyzers\n",
    "\n",
    "# Analyzer\n",
    "cerebro.addanalyzer(btanalyzers.SharpeRatio, _name='mysharpe')\n",
    "\n",
    "thestrats = cerebro.run()\n",
    "thestrat = thestrats[0]\n",
    "\n",
    "print('Sharpe Ratio:', thestrat.analyzers.mysharpe.get_analysis())\n",
    "\n"
   ]
  },
  {
   "cell_type": "code",
   "execution_count": null,
   "metadata": {},
   "outputs": [],
   "source": []
  },
  {
   "cell_type": "code",
   "execution_count": 5,
   "metadata": {},
   "outputs": [
    {
     "output_type": "display_data",
     "data": {
      "text/plain": "<IPython.core.display.Javascript object>",
      "application/javascript": "/* Put everything inside the global mpl namespace */\nwindow.mpl = {};\n\n\nmpl.get_websocket_type = function() {\n    if (typeof(WebSocket) !== 'undefined') {\n        return WebSocket;\n    } else if (typeof(MozWebSocket) !== 'undefined') {\n        return MozWebSocket;\n    } else {\n        alert('Your browser does not have WebSocket support. ' +\n              'Please try Chrome, Safari or Firefox ≥ 6. ' +\n              'Firefox 4 and 5 are also supported but you ' +\n              'have to enable WebSockets in about:config.');\n    };\n}\n\nmpl.figure = function(figure_id, websocket, ondownload, parent_element) {\n    this.id = figure_id;\n\n    this.ws = websocket;\n\n    this.supports_binary = (this.ws.binaryType != undefined);\n\n    if (!this.supports_binary) {\n        var warnings = document.getElementById(\"mpl-warnings\");\n        if (warnings) {\n            warnings.style.display = 'block';\n            warnings.textContent = (\n                \"This browser does not support binary websocket messages. \" +\n                    \"Performance may be slow.\");\n        }\n    }\n\n    this.imageObj = new Image();\n\n    this.context = undefined;\n    this.message = undefined;\n    this.canvas = undefined;\n    this.rubberband_canvas = undefined;\n    this.rubberband_context = undefined;\n    this.format_dropdown = undefined;\n\n    this.image_mode = 'full';\n\n    this.root = $('<div/>');\n    this._root_extra_style(this.root)\n    this.root.attr('style', 'display: inline-block');\n\n    $(parent_element).append(this.root);\n\n    this._init_header(this);\n    this._init_canvas(this);\n    this._init_toolbar(this);\n\n    var fig = this;\n\n    this.waiting = false;\n\n    this.ws.onopen =  function () {\n            fig.send_message(\"supports_binary\", {value: fig.supports_binary});\n            fig.send_message(\"send_image_mode\", {});\n            if (mpl.ratio != 1) {\n                fig.send_message(\"set_dpi_ratio\", {'dpi_ratio': mpl.ratio});\n            }\n            fig.send_message(\"refresh\", {});\n        }\n\n    this.imageObj.onload = function() {\n            if (fig.image_mode == 'full') {\n                // Full images could contain transparency (where diff images\n                // almost always do), so we need to clear the canvas so that\n                // there is no ghosting.\n                fig.context.clearRect(0, 0, fig.canvas.width, fig.canvas.height);\n            }\n            fig.context.drawImage(fig.imageObj, 0, 0);\n        };\n\n    this.imageObj.onunload = function() {\n        fig.ws.close();\n    }\n\n    this.ws.onmessage = this._make_on_message_function(this);\n\n    this.ondownload = ondownload;\n}\n\nmpl.figure.prototype._init_header = function() {\n    var titlebar = $(\n        '<div class=\"ui-dialog-titlebar ui-widget-header ui-corner-all ' +\n        'ui-helper-clearfix\"/>');\n    var titletext = $(\n        '<div class=\"ui-dialog-title\" style=\"width: 100%; ' +\n        'text-align: center; padding: 3px;\"/>');\n    titlebar.append(titletext)\n    this.root.append(titlebar);\n    this.header = titletext[0];\n}\n\n\n\nmpl.figure.prototype._canvas_extra_style = function(canvas_div) {\n\n}\n\n\nmpl.figure.prototype._root_extra_style = function(canvas_div) {\n\n}\n\nmpl.figure.prototype._init_canvas = function() {\n    var fig = this;\n\n    var canvas_div = $('<div/>');\n\n    canvas_div.attr('style', 'position: relative; clear: both; outline: 0');\n\n    function canvas_keyboard_event(event) {\n        return fig.key_event(event, event['data']);\n    }\n\n    canvas_div.keydown('key_press', canvas_keyboard_event);\n    canvas_div.keyup('key_release', canvas_keyboard_event);\n    this.canvas_div = canvas_div\n    this._canvas_extra_style(canvas_div)\n    this.root.append(canvas_div);\n\n    var canvas = $('<canvas/>');\n    canvas.addClass('mpl-canvas');\n    canvas.attr('style', \"left: 0; top: 0; z-index: 0; outline: 0\")\n\n    this.canvas = canvas[0];\n    this.context = canvas[0].getContext(\"2d\");\n\n    var backingStore = this.context.backingStorePixelRatio ||\n\tthis.context.webkitBackingStorePixelRatio ||\n\tthis.context.mozBackingStorePixelRatio ||\n\tthis.context.msBackingStorePixelRatio ||\n\tthis.context.oBackingStorePixelRatio ||\n\tthis.context.backingStorePixelRatio || 1;\n\n    mpl.ratio = (window.devicePixelRatio || 1) / backingStore;\n\n    var rubberband = $('<canvas/>');\n    rubberband.attr('style', \"position: absolute; left: 0; top: 0; z-index: 1;\")\n\n    var pass_mouse_events = true;\n\n    canvas_div.resizable({\n        start: function(event, ui) {\n            pass_mouse_events = false;\n        },\n        resize: function(event, ui) {\n            fig.request_resize(ui.size.width, ui.size.height);\n        },\n        stop: function(event, ui) {\n            pass_mouse_events = true;\n            fig.request_resize(ui.size.width, ui.size.height);\n        },\n    });\n\n    function mouse_event_fn(event) {\n        if (pass_mouse_events)\n            return fig.mouse_event(event, event['data']);\n    }\n\n    rubberband.mousedown('button_press', mouse_event_fn);\n    rubberband.mouseup('button_release', mouse_event_fn);\n    // Throttle sequential mouse events to 1 every 20ms.\n    rubberband.mousemove('motion_notify', mouse_event_fn);\n\n    rubberband.mouseenter('figure_enter', mouse_event_fn);\n    rubberband.mouseleave('figure_leave', mouse_event_fn);\n\n    canvas_div.on(\"wheel\", function (event) {\n        event = event.originalEvent;\n        event['data'] = 'scroll'\n        if (event.deltaY < 0) {\n            event.step = 1;\n        } else {\n            event.step = -1;\n        }\n        mouse_event_fn(event);\n    });\n\n    canvas_div.append(canvas);\n    canvas_div.append(rubberband);\n\n    this.rubberband = rubberband;\n    this.rubberband_canvas = rubberband[0];\n    this.rubberband_context = rubberband[0].getContext(\"2d\");\n    this.rubberband_context.strokeStyle = \"#000000\";\n\n    this._resize_canvas = function(width, height) {\n        // Keep the size of the canvas, canvas container, and rubber band\n        // canvas in synch.\n        canvas_div.css('width', width)\n        canvas_div.css('height', height)\n\n        canvas.attr('width', width * mpl.ratio);\n        canvas.attr('height', height * mpl.ratio);\n        canvas.attr('style', 'width: ' + width + 'px; height: ' + height + 'px;');\n\n        rubberband.attr('width', width);\n        rubberband.attr('height', height);\n    }\n\n    // Set the figure to an initial 600x600px, this will subsequently be updated\n    // upon first draw.\n    this._resize_canvas(600, 600);\n\n    // Disable right mouse context menu.\n    $(this.rubberband_canvas).bind(\"contextmenu\",function(e){\n        return false;\n    });\n\n    function set_focus () {\n        canvas.focus();\n        canvas_div.focus();\n    }\n\n    window.setTimeout(set_focus, 100);\n}\n\nmpl.figure.prototype._init_toolbar = function() {\n    var fig = this;\n\n    var nav_element = $('<div/>');\n    nav_element.attr('style', 'width: 100%');\n    this.root.append(nav_element);\n\n    // Define a callback function for later on.\n    function toolbar_event(event) {\n        return fig.toolbar_button_onclick(event['data']);\n    }\n    function toolbar_mouse_event(event) {\n        return fig.toolbar_button_onmouseover(event['data']);\n    }\n\n    for(var toolbar_ind in mpl.toolbar_items) {\n        var name = mpl.toolbar_items[toolbar_ind][0];\n        var tooltip = mpl.toolbar_items[toolbar_ind][1];\n        var image = mpl.toolbar_items[toolbar_ind][2];\n        var method_name = mpl.toolbar_items[toolbar_ind][3];\n\n        if (!name) {\n            // put a spacer in here.\n            continue;\n        }\n        var button = $('<button/>');\n        button.addClass('ui-button ui-widget ui-state-default ui-corner-all ' +\n                        'ui-button-icon-only');\n        button.attr('role', 'button');\n        button.attr('aria-disabled', 'false');\n        button.click(method_name, toolbar_event);\n        button.mouseover(tooltip, toolbar_mouse_event);\n\n        var icon_img = $('<span/>');\n        icon_img.addClass('ui-button-icon-primary ui-icon');\n        icon_img.addClass(image);\n        icon_img.addClass('ui-corner-all');\n\n        var tooltip_span = $('<span/>');\n        tooltip_span.addClass('ui-button-text');\n        tooltip_span.html(tooltip);\n\n        button.append(icon_img);\n        button.append(tooltip_span);\n\n        nav_element.append(button);\n    }\n\n    var fmt_picker_span = $('<span/>');\n\n    var fmt_picker = $('<select/>');\n    fmt_picker.addClass('mpl-toolbar-option ui-widget ui-widget-content');\n    fmt_picker_span.append(fmt_picker);\n    nav_element.append(fmt_picker_span);\n    this.format_dropdown = fmt_picker[0];\n\n    for (var ind in mpl.extensions) {\n        var fmt = mpl.extensions[ind];\n        var option = $(\n            '<option/>', {selected: fmt === mpl.default_extension}).html(fmt);\n        fmt_picker.append(option);\n    }\n\n    // Add hover states to the ui-buttons\n    $( \".ui-button\" ).hover(\n        function() { $(this).addClass(\"ui-state-hover\");},\n        function() { $(this).removeClass(\"ui-state-hover\");}\n    );\n\n    var status_bar = $('<span class=\"mpl-message\"/>');\n    nav_element.append(status_bar);\n    this.message = status_bar[0];\n}\n\nmpl.figure.prototype.request_resize = function(x_pixels, y_pixels) {\n    // Request matplotlib to resize the figure. Matplotlib will then trigger a resize in the client,\n    // which will in turn request a refresh of the image.\n    this.send_message('resize', {'width': x_pixels, 'height': y_pixels});\n}\n\nmpl.figure.prototype.send_message = function(type, properties) {\n    properties['type'] = type;\n    properties['figure_id'] = this.id;\n    this.ws.send(JSON.stringify(properties));\n}\n\nmpl.figure.prototype.send_draw_message = function() {\n    if (!this.waiting) {\n        this.waiting = true;\n        this.ws.send(JSON.stringify({type: \"draw\", figure_id: this.id}));\n    }\n}\n\n\nmpl.figure.prototype.handle_save = function(fig, msg) {\n    var format_dropdown = fig.format_dropdown;\n    var format = format_dropdown.options[format_dropdown.selectedIndex].value;\n    fig.ondownload(fig, format);\n}\n\n\nmpl.figure.prototype.handle_resize = function(fig, msg) {\n    var size = msg['size'];\n    if (size[0] != fig.canvas.width || size[1] != fig.canvas.height) {\n        fig._resize_canvas(size[0], size[1]);\n        fig.send_message(\"refresh\", {});\n    };\n}\n\nmpl.figure.prototype.handle_rubberband = function(fig, msg) {\n    var x0 = msg['x0'] / mpl.ratio;\n    var y0 = (fig.canvas.height - msg['y0']) / mpl.ratio;\n    var x1 = msg['x1'] / mpl.ratio;\n    var y1 = (fig.canvas.height - msg['y1']) / mpl.ratio;\n    x0 = Math.floor(x0) + 0.5;\n    y0 = Math.floor(y0) + 0.5;\n    x1 = Math.floor(x1) + 0.5;\n    y1 = Math.floor(y1) + 0.5;\n    var min_x = Math.min(x0, x1);\n    var min_y = Math.min(y0, y1);\n    var width = Math.abs(x1 - x0);\n    var height = Math.abs(y1 - y0);\n\n    fig.rubberband_context.clearRect(\n        0, 0, fig.canvas.width / mpl.ratio, fig.canvas.height / mpl.ratio);\n\n    fig.rubberband_context.strokeRect(min_x, min_y, width, height);\n}\n\nmpl.figure.prototype.handle_figure_label = function(fig, msg) {\n    // Updates the figure title.\n    fig.header.textContent = msg['label'];\n}\n\nmpl.figure.prototype.handle_cursor = function(fig, msg) {\n    var cursor = msg['cursor'];\n    switch(cursor)\n    {\n    case 0:\n        cursor = 'pointer';\n        break;\n    case 1:\n        cursor = 'default';\n        break;\n    case 2:\n        cursor = 'crosshair';\n        break;\n    case 3:\n        cursor = 'move';\n        break;\n    }\n    fig.rubberband_canvas.style.cursor = cursor;\n}\n\nmpl.figure.prototype.handle_message = function(fig, msg) {\n    fig.message.textContent = msg['message'];\n}\n\nmpl.figure.prototype.handle_draw = function(fig, msg) {\n    // Request the server to send over a new figure.\n    fig.send_draw_message();\n}\n\nmpl.figure.prototype.handle_image_mode = function(fig, msg) {\n    fig.image_mode = msg['mode'];\n}\n\nmpl.figure.prototype.updated_canvas_event = function() {\n    // Called whenever the canvas gets updated.\n    this.send_message(\"ack\", {});\n}\n\n// A function to construct a web socket function for onmessage handling.\n// Called in the figure constructor.\nmpl.figure.prototype._make_on_message_function = function(fig) {\n    return function socket_on_message(evt) {\n        if (evt.data instanceof Blob) {\n            /* FIXME: We get \"Resource interpreted as Image but\n             * transferred with MIME type text/plain:\" errors on\n             * Chrome.  But how to set the MIME type?  It doesn't seem\n             * to be part of the websocket stream */\n            evt.data.type = \"image/png\";\n\n            /* Free the memory for the previous frames */\n            if (fig.imageObj.src) {\n                (window.URL || window.webkitURL).revokeObjectURL(\n                    fig.imageObj.src);\n            }\n\n            fig.imageObj.src = (window.URL || window.webkitURL).createObjectURL(\n                evt.data);\n            fig.updated_canvas_event();\n            fig.waiting = false;\n            return;\n        }\n        else if (typeof evt.data === 'string' && evt.data.slice(0, 21) == \"data:image/png;base64\") {\n            fig.imageObj.src = evt.data;\n            fig.updated_canvas_event();\n            fig.waiting = false;\n            return;\n        }\n\n        var msg = JSON.parse(evt.data);\n        var msg_type = msg['type'];\n\n        // Call the  \"handle_{type}\" callback, which takes\n        // the figure and JSON message as its only arguments.\n        try {\n            var callback = fig[\"handle_\" + msg_type];\n        } catch (e) {\n            console.log(\"No handler for the '\" + msg_type + \"' message type: \", msg);\n            return;\n        }\n\n        if (callback) {\n            try {\n                // console.log(\"Handling '\" + msg_type + \"' message: \", msg);\n                callback(fig, msg);\n            } catch (e) {\n                console.log(\"Exception inside the 'handler_\" + msg_type + \"' callback:\", e, e.stack, msg);\n            }\n        }\n    };\n}\n\n// from http://stackoverflow.com/questions/1114465/getting-mouse-location-in-canvas\nmpl.findpos = function(e) {\n    //this section is from http://www.quirksmode.org/js/events_properties.html\n    var targ;\n    if (!e)\n        e = window.event;\n    if (e.target)\n        targ = e.target;\n    else if (e.srcElement)\n        targ = e.srcElement;\n    if (targ.nodeType == 3) // defeat Safari bug\n        targ = targ.parentNode;\n\n    // jQuery normalizes the pageX and pageY\n    // pageX,Y are the mouse positions relative to the document\n    // offset() returns the position of the element relative to the document\n    var x = e.pageX - $(targ).offset().left;\n    var y = e.pageY - $(targ).offset().top;\n\n    return {\"x\": x, \"y\": y};\n};\n\n/*\n * return a copy of an object with only non-object keys\n * we need this to avoid circular references\n * http://stackoverflow.com/a/24161582/3208463\n */\nfunction simpleKeys (original) {\n  return Object.keys(original).reduce(function (obj, key) {\n    if (typeof original[key] !== 'object')\n        obj[key] = original[key]\n    return obj;\n  }, {});\n}\n\nmpl.figure.prototype.mouse_event = function(event, name) {\n    var canvas_pos = mpl.findpos(event)\n\n    if (name === 'button_press')\n    {\n        this.canvas.focus();\n        this.canvas_div.focus();\n    }\n\n    var x = canvas_pos.x * mpl.ratio;\n    var y = canvas_pos.y * mpl.ratio;\n\n    this.send_message(name, {x: x, y: y, button: event.button,\n                             step: event.step,\n                             guiEvent: simpleKeys(event)});\n\n    /* This prevents the web browser from automatically changing to\n     * the text insertion cursor when the button is pressed.  We want\n     * to control all of the cursor setting manually through the\n     * 'cursor' event from matplotlib */\n    event.preventDefault();\n    return false;\n}\n\nmpl.figure.prototype._key_event_extra = function(event, name) {\n    // Handle any extra behaviour associated with a key event\n}\n\nmpl.figure.prototype.key_event = function(event, name) {\n\n    // Prevent repeat events\n    if (name == 'key_press')\n    {\n        if (event.which === this._key)\n            return;\n        else\n            this._key = event.which;\n    }\n    if (name == 'key_release')\n        this._key = null;\n\n    var value = '';\n    if (event.ctrlKey && event.which != 17)\n        value += \"ctrl+\";\n    if (event.altKey && event.which != 18)\n        value += \"alt+\";\n    if (event.shiftKey && event.which != 16)\n        value += \"shift+\";\n\n    value += 'k';\n    value += event.which.toString();\n\n    this._key_event_extra(event, name);\n\n    this.send_message(name, {key: value,\n                             guiEvent: simpleKeys(event)});\n    return false;\n}\n\nmpl.figure.prototype.toolbar_button_onclick = function(name) {\n    if (name == 'download') {\n        this.handle_save(this, null);\n    } else {\n        this.send_message(\"toolbar_button\", {name: name});\n    }\n};\n\nmpl.figure.prototype.toolbar_button_onmouseover = function(tooltip) {\n    this.message.textContent = tooltip;\n};\nmpl.toolbar_items = [[\"Home\", \"Reset original view\", \"fa fa-home icon-home\", \"home\"], [\"Back\", \"Back to previous view\", \"fa fa-arrow-left icon-arrow-left\", \"back\"], [\"Forward\", \"Forward to next view\", \"fa fa-arrow-right icon-arrow-right\", \"forward\"], [\"\", \"\", \"\", \"\"], [\"Pan\", \"Pan axes with left mouse, zoom with right\", \"fa fa-arrows icon-move\", \"pan\"], [\"Zoom\", \"Zoom to rectangle\", \"fa fa-square-o icon-check-empty\", \"zoom\"], [\"\", \"\", \"\", \"\"], [\"Download\", \"Download plot\", \"fa fa-floppy-o icon-save\", \"download\"]];\n\nmpl.extensions = [\"eps\", \"jpeg\", \"pdf\", \"png\", \"ps\", \"raw\", \"svg\", \"tif\"];\n\nmpl.default_extension = \"png\";var comm_websocket_adapter = function(comm) {\n    // Create a \"websocket\"-like object which calls the given IPython comm\n    // object with the appropriate methods. Currently this is a non binary\n    // socket, so there is still some room for performance tuning.\n    var ws = {};\n\n    ws.close = function() {\n        comm.close()\n    };\n    ws.send = function(m) {\n        //console.log('sending', m);\n        comm.send(m);\n    };\n    // Register the callback with on_msg.\n    comm.on_msg(function(msg) {\n        //console.log('receiving', msg['content']['data'], msg);\n        // Pass the mpl event to the overridden (by mpl) onmessage function.\n        ws.onmessage(msg['content']['data'])\n    });\n    return ws;\n}\n\nmpl.mpl_figure_comm = function(comm, msg) {\n    // This is the function which gets called when the mpl process\n    // starts-up an IPython Comm through the \"matplotlib\" channel.\n\n    var id = msg.content.data.id;\n    // Get hold of the div created by the display call when the Comm\n    // socket was opened in Python.\n    var element = $(\"#\" + id);\n    var ws_proxy = comm_websocket_adapter(comm)\n\n    function ondownload(figure, format) {\n        window.open(figure.imageObj.src);\n    }\n\n    var fig = new mpl.figure(id, ws_proxy,\n                           ondownload,\n                           element.get(0));\n\n    // Call onopen now - mpl needs it, as it is assuming we've passed it a real\n    // web socket which is closed, not our websocket->open comm proxy.\n    ws_proxy.onopen();\n\n    fig.parent_element = element.get(0);\n    fig.cell_info = mpl.find_output_cell(\"<div id='\" + id + \"'></div>\");\n    if (!fig.cell_info) {\n        console.error(\"Failed to find cell for figure\", id, fig);\n        return;\n    }\n\n    var output_index = fig.cell_info[2]\n    var cell = fig.cell_info[0];\n\n};\n\nmpl.figure.prototype.handle_close = function(fig, msg) {\n    var width = fig.canvas.width/mpl.ratio\n    fig.root.unbind('remove')\n\n    // Update the output cell to use the data from the current canvas.\n    fig.push_to_output();\n    var dataURL = fig.canvas.toDataURL();\n    // Re-enable the keyboard manager in IPython - without this line, in FF,\n    // the notebook keyboard shortcuts fail.\n    IPython.keyboard_manager.enable()\n    $(fig.parent_element).html('<img src=\"' + dataURL + '\" width=\"' + width + '\">');\n    fig.close_ws(fig, msg);\n}\n\nmpl.figure.prototype.close_ws = function(fig, msg){\n    fig.send_message('closing', msg);\n    // fig.ws.close()\n}\n\nmpl.figure.prototype.push_to_output = function(remove_interactive) {\n    // Turn the data on the canvas into data in the output cell.\n    var width = this.canvas.width/mpl.ratio\n    var dataURL = this.canvas.toDataURL();\n    this.cell_info[1]['text/html'] = '<img src=\"' + dataURL + '\" width=\"' + width + '\">';\n}\n\nmpl.figure.prototype.updated_canvas_event = function() {\n    // Tell IPython that the notebook contents must change.\n    IPython.notebook.set_dirty(true);\n    this.send_message(\"ack\", {});\n    var fig = this;\n    // Wait a second, then push the new image to the DOM so\n    // that it is saved nicely (might be nice to debounce this).\n    setTimeout(function () { fig.push_to_output() }, 1000);\n}\n\nmpl.figure.prototype._init_toolbar = function() {\n    var fig = this;\n\n    var nav_element = $('<div/>');\n    nav_element.attr('style', 'width: 100%');\n    this.root.append(nav_element);\n\n    // Define a callback function for later on.\n    function toolbar_event(event) {\n        return fig.toolbar_button_onclick(event['data']);\n    }\n    function toolbar_mouse_event(event) {\n        return fig.toolbar_button_onmouseover(event['data']);\n    }\n\n    for(var toolbar_ind in mpl.toolbar_items){\n        var name = mpl.toolbar_items[toolbar_ind][0];\n        var tooltip = mpl.toolbar_items[toolbar_ind][1];\n        var image = mpl.toolbar_items[toolbar_ind][2];\n        var method_name = mpl.toolbar_items[toolbar_ind][3];\n\n        if (!name) { continue; };\n\n        var button = $('<button class=\"btn btn-default\" href=\"#\" title=\"' + name + '\"><i class=\"fa ' + image + ' fa-lg\"></i></button>');\n        button.click(method_name, toolbar_event);\n        button.mouseover(tooltip, toolbar_mouse_event);\n        nav_element.append(button);\n    }\n\n    // Add the status bar.\n    var status_bar = $('<span class=\"mpl-message\" style=\"text-align:right; float: right;\"/>');\n    nav_element.append(status_bar);\n    this.message = status_bar[0];\n\n    // Add the close button to the window.\n    var buttongrp = $('<div class=\"btn-group inline pull-right\"></div>');\n    var button = $('<button class=\"btn btn-mini btn-primary\" href=\"#\" title=\"Stop Interaction\"><i class=\"fa fa-power-off icon-remove icon-large\"></i></button>');\n    button.click(function (evt) { fig.handle_close(fig, {}); } );\n    button.mouseover('Stop Interaction', toolbar_mouse_event);\n    buttongrp.append(button);\n    var titlebar = this.root.find($('.ui-dialog-titlebar'));\n    titlebar.prepend(buttongrp);\n}\n\nmpl.figure.prototype._root_extra_style = function(el){\n    var fig = this\n    el.on(\"remove\", function(){\n\tfig.close_ws(fig, {});\n    });\n}\n\nmpl.figure.prototype._canvas_extra_style = function(el){\n    // this is important to make the div 'focusable\n    el.attr('tabindex', 0)\n    // reach out to IPython and tell the keyboard manager to turn it's self\n    // off when our div gets focus\n\n    // location in version 3\n    if (IPython.notebook.keyboard_manager) {\n        IPython.notebook.keyboard_manager.register_events(el);\n    }\n    else {\n        // location in version 2\n        IPython.keyboard_manager.register_events(el);\n    }\n\n}\n\nmpl.figure.prototype._key_event_extra = function(event, name) {\n    var manager = IPython.notebook.keyboard_manager;\n    if (!manager)\n        manager = IPython.keyboard_manager;\n\n    // Check for shift+enter\n    if (event.shiftKey && event.which == 13) {\n        this.canvas_div.blur();\n        // select the cell after this one\n        var index = IPython.notebook.find_cell_index(this.cell_info[0]);\n        IPython.notebook.select(index + 1);\n    }\n}\n\nmpl.figure.prototype.handle_save = function(fig, msg) {\n    fig.ondownload(fig, null);\n}\n\n\nmpl.find_output_cell = function(html_output) {\n    // Return the cell and output element which can be found *uniquely* in the notebook.\n    // Note - this is a bit hacky, but it is done because the \"notebook_saving.Notebook\"\n    // IPython event is triggered only after the cells have been serialised, which for\n    // our purposes (turning an active figure into a static one), is too late.\n    var cells = IPython.notebook.get_cells();\n    var ncells = cells.length;\n    for (var i=0; i<ncells; i++) {\n        var cell = cells[i];\n        if (cell.cell_type === 'code'){\n            for (var j=0; j<cell.output_area.outputs.length; j++) {\n                var data = cell.output_area.outputs[j];\n                if (data.data) {\n                    // IPython >= 3 moved mimebundle to data attribute of output\n                    data = data.data;\n                }\n                if (data['text/html'] == html_output) {\n                    return [cell, data, j];\n                }\n            }\n        }\n    }\n}\n\n// Register the function which deals with the matplotlib target/channel.\n// The kernel may be null if the page has been refreshed.\nif (IPython.notebook.kernel != null) {\n    IPython.notebook.kernel.comm_manager.register_target('matplotlib', mpl.mpl_figure_comm);\n}\n"
     },
     "metadata": {}
    },
    {
     "output_type": "display_data",
     "data": {
      "text/plain": "<IPython.core.display.HTML object>",
      "text/html": "<div id='3bcfc04c-8266-4411-857f-e7d701e1f3b2'></div>"
     },
     "metadata": {}
    },
    {
     "output_type": "stream",
     "name": "stderr",
     "text": [
      "Exception ignored in: <function Comm.__del__ at 0x7fb483c865f0>\nTraceback (most recent call last):\n  File \"/Users/bowenduan/anaconda3/lib/python3.7/site-packages/ipykernel/comm/comm.py\", line 76, in __del__\n    self.close()\n  File \"/Users/bowenduan/anaconda3/lib/python3.7/site-packages/ipykernel/comm/comm.py\", line 116, in close\n    self.kernel.comm_manager.unregister_comm(self)\n  File \"/Users/bowenduan/anaconda3/lib/python3.7/site-packages/ipykernel/comm/manager.py\", line 56, in unregister_comm\n    comm = self.comms.pop(comm.comm_id)\nKeyError: ('ce3d8ed3386541ecb25e864adf0b8beb',)\n"
     ]
    },
    {
     "output_type": "execute_result",
     "data": {
      "text/plain": [
       "[[<Figure size 432x288 with 5 Axes>]]"
      ]
     },
     "metadata": {},
     "execution_count": 5
    }
   ],
   "source": [
    "from datetime import datetime\n",
    "import backtrader as bt\n",
    "import matplotlib\n",
    "import matplotlib.pyplot as plt\n",
    "%matplotlib inline\n",
    "\n",
    "class SmaCross(bt.SignalStrategy):\n",
    "    def __init__(self):\n",
    "        sma1, sma2 = bt.ind.SMA(period=10), bt.ind.SMA(period=30)\n",
    "        crossover = bt.ind.CrossOver(sma1, sma2)\n",
    "        self.signal_add(bt.SIGNAL_LONG, crossover)\n",
    "\n",
    "cerebro = bt.Cerebro()\n",
    "cerebro.addstrategy(SmaCross)\n",
    "\n",
    "data0 = bt.feeds.YahooFinanceData(dataname='MSFT', fromdate=datetime(2011, 1, 1),\n",
    "                                  todate=datetime(2012, 12, 31))\n",
    "cerebro.adddata(data0)\n",
    "\n",
    "cerebro.run()\n",
    "#matplotlib.use('Qt5Agg')\n",
    "#plt.switch_backend('Qt5Agg')\n",
    "\n",
    "#cerebro.plot(height = 30, iplot = False)\n",
    "#plt.show()\n",
    "cerebro.plot()"
   ]
  },
  {
   "cell_type": "code",
   "execution_count": 9,
   "metadata": {},
   "outputs": [
    {
     "output_type": "stream",
     "name": "stdout",
     "text": [
      "2011-01-03, Close, 22.25\n2011-01-04, Close, 22.33\n2011-01-05, Close, 22.26\n2011-01-06, Close, 22.91\n2011-01-07, Close, 22.74\n2011-01-10, Close, 22.44\n2011-01-11, Close, 22.35\n2011-01-12, Close, 22.70\n2011-01-13, Close, 22.41\n2011-01-14, Close, 22.50\n2011-01-18, Close, 22.79\n2011-01-19, Close, 22.64\n2011-01-20, Close, 22.54\n2011-01-21, Close, 22.28\n2011-01-24, Close, 22.56\n2011-01-25, Close, 22.62\n2011-01-26, Close, 22.88\n2011-01-27, Close, 22.95\n2011-01-28, Close, 22.06\n2011-01-31, Close, 22.05\n2011-02-01, Close, 22.25\n2011-02-02, Close, 22.21\n2011-02-03, Close, 21.98\n2011-02-04, Close, 22.08\n2011-02-07, Close, 22.42\n2011-02-08, Close, 22.48\n2011-02-09, Close, 22.24\n2011-02-10, Close, 21.86\n2011-02-11, Close, 21.67\n2011-02-14, Close, 21.65\n2011-02-15, Close, 21.56\n2011-02-16, Close, 21.61\n2011-02-17, Close, 21.76\n2011-02-18, Close, 21.64\n2011-02-22, Close, 21.27\n2011-02-23, Close, 21.27\n2011-02-24, Close, 21.41\n2011-02-25, Close, 21.23\n2011-02-28, Close, 21.26\n2011-03-01, Close, 20.92\n2011-03-02, Close, 20.86\n2011-03-03, Close, 20.95\n2011-03-04, Close, 20.75\n2011-03-07, Close, 20.57\n2011-03-08, Close, 20.72\n2011-03-09, Close, 20.71\n2011-03-10, Close, 20.32\n2011-03-11, Close, 20.54\n2011-03-14, Close, 20.55\n2011-03-15, Close, 20.31\n2011-03-16, Close, 19.83\n2011-03-17, Close, 19.82\n2011-03-18, Close, 19.83\n2011-03-21, Close, 20.26\n2011-03-22, Close, 20.23\n2011-03-23, Close, 20.43\n2011-03-24, Close, 20.64\n2011-03-25, Close, 20.49\n2011-03-28, Close, 20.32\n2011-03-29, Close, 20.39\n2011-03-30, Close, 20.48\n2011-03-31, Close, 20.31\n2011-04-01, Close, 20.38\n2011-04-04, Close, 20.43\n2011-04-05, Close, 20.62\n2011-04-06, Close, 20.91\n2011-04-07, Close, 20.95\n2011-04-08, Close, 20.85\n2011-04-11, Close, 20.78\n2011-04-12, Close, 20.51\n2011-04-13, Close, 20.50\n2011-04-14, Close, 20.33\n2011-04-15, Close, 20.29\n2011-04-18, Close, 20.06\n2011-04-19, Close, 20.11\n2011-04-20, Close, 20.60\n2011-04-21, Close, 20.41\n2011-04-25, Close, 20.48\n2011-04-26, Close, 20.95\n2011-04-27, Close, 21.10\n2011-04-28, Close, 21.36\n2011-04-29, Close, 20.73\n2011-05-02, Close, 20.52\n2011-05-03, Close, 20.64\n2011-05-04, Close, 20.84\n2011-05-05, Close, 20.63\n2011-05-06, Close, 20.69\n2011-05-09, Close, 20.66\n2011-05-10, Close, 20.53\n2011-05-11, Close, 20.28\n2011-05-12, Close, 20.25\n2011-05-13, Close, 20.02\n2011-05-16, Close, 19.65\n2011-05-17, Close, 19.74\n2011-05-18, Close, 19.88\n2011-05-19, Close, 19.90\n2011-05-20, Close, 19.71\n2011-05-23, Close, 19.46\n2011-05-24, Close, 19.44\n2011-05-25, Close, 19.47\n2011-05-26, Close, 19.86\n2011-05-27, Close, 19.93\n2011-05-31, Close, 20.13\n2011-06-01, Close, 19.67\n2011-06-02, Close, 19.50\n2011-06-03, Close, 19.25\n2011-06-06, Close, 19.33\n2011-06-07, Close, 19.37\n2011-06-08, Close, 19.27\n2011-06-09, Close, 19.29\n2011-06-10, Close, 19.09\n2011-06-13, Close, 19.35\n2011-06-14, Close, 19.50\n2011-06-15, Close, 19.11\n2011-06-16, Close, 19.32\n2011-06-17, Close, 19.53\n2011-06-20, Close, 19.70\n2011-06-21, Close, 19.93\n2011-06-22, Close, 19.84\n2011-06-23, Close, 19.83\n2011-06-24, Close, 19.56\n2011-06-27, Close, 20.29\n2011-06-28, Close, 20.77\n2011-06-29, Close, 20.62\n2011-06-30, Close, 20.93\n2011-07-01, Close, 20.95\n2011-07-05, Close, 20.95\n2011-07-06, Close, 21.20\n2011-07-07, Close, 21.55\n2011-07-08, Close, 21.67\n2011-07-11, Close, 21.44\n2011-07-12, Close, 21.37\n2011-07-13, Close, 21.44\n2011-07-14, Close, 21.31\n2011-07-15, Close, 21.56\n2011-07-18, Close, 21.41\n2011-07-19, Close, 22.17\n2011-07-20, Close, 21.78\n2011-07-21, Close, 21.82\n2011-07-22, Close, 22.16\n2011-07-25, Close, 22.47\n2011-07-26, Close, 22.60\n2011-07-27, Close, 22.00\n2011-07-28, Close, 22.31\n2011-07-29, Close, 22.06\n2011-08-01, Close, 21.95\n2011-08-02, Close, 21.57\n2011-08-03, Close, 21.67\n2011-08-04, Close, 20.88\n2011-08-05, Close, 20.67\n2011-08-08, Close, 19.71\n2011-08-09, Close, 20.59\n2011-08-10, Close, 19.48\n2011-08-11, Close, 20.28\n2011-08-12, Close, 20.21\n2011-08-15, Close, 20.54\n2011-08-16, Close, 20.54\n2011-08-17, Close, 20.45\n2011-08-18, Close, 19.98\n2011-08-19, Close, 19.48\n2011-08-22, Close, 19.43\n2011-08-23, Close, 20.03\n2011-08-24, Close, 20.17\n2011-08-25, Close, 19.90\n2011-08-26, Close, 20.45\n2011-08-29, Close, 20.93\n2011-08-30, Close, 21.25\n2011-08-31, Close, 21.55\n2011-09-01, Close, 21.23\n2011-09-02, Close, 20.90\n2011-09-06, Close, 20.67\n2011-09-07, Close, 21.06\n2011-09-08, Close, 21.24\n2011-09-09, Close, 20.85\n2011-09-12, Close, 20.97\n2011-09-13, Close, 21.09\n2011-09-14, Close, 21.47\n2011-09-15, Close, 21.86\n2011-09-16, Close, 21.97\n2011-09-19, Close, 22.04\n2011-09-20, Close, 21.86\n2011-09-21, Close, 21.05\n2011-09-22, Close, 20.30\n2011-09-23, Close, 20.30\n2011-09-26, Close, 20.61\n2011-09-27, Close, 20.80\n2011-09-28, Close, 20.72\n2011-09-29, Close, 20.62\n2011-09-30, Close, 20.16\n2011-10-03, Close, 19.87\n2011-10-04, Close, 20.53\n2011-10-05, Close, 20.97\n2011-10-06, Close, 21.34\n2011-10-07, Close, 21.26\n2011-10-10, Close, 21.82\n2011-10-11, Close, 21.87\n2011-10-12, Close, 21.84\n2011-10-13, Close, 22.02\n2011-10-14, Close, 22.09\n2011-10-17, Close, 21.86\n2011-10-18, Close, 22.12\n2011-10-19, Close, 21.98\n2011-10-20, Close, 21.90\n2011-10-21, Close, 22.00\n2011-10-24, Close, 22.03\n2011-10-25, Close, 21.72\n2011-10-26, Close, 21.54\n2011-10-27, Close, 22.08\n2011-10-28, Close, 21.86\n2011-10-31, Close, 21.57\n2011-11-01, Close, 21.05\n2011-11-02, Close, 21.07\n2011-11-03, Close, 21.49\n2011-11-04, Close, 21.26\n2011-11-07, Close, 21.71\n2011-11-08, Close, 22.00\n2011-11-09, Close, 21.22\n2011-11-10, Close, 21.29\n2011-11-11, Close, 21.80\n2011-11-14, Close, 21.68\n2011-11-15, Close, 21.82\n2011-11-16, Close, 21.28\n2011-11-17, Close, 20.85\n2011-11-18, Close, 20.65\n2011-11-21, Close, 20.40\n2011-11-22, Close, 20.23\n2011-11-23, Close, 19.97\n2011-11-25, Close, 19.83\n2011-11-28, Close, 20.30\n2011-11-29, Close, 20.27\n2011-11-30, Close, 20.88\n2011-12-01, Close, 20.63\n2011-12-02, Close, 20.58\n2011-12-05, Close, 20.98\n2011-12-06, Close, 20.94\n2011-12-07, Close, 20.89\n2011-12-08, Close, 20.73\n2011-12-09, Close, 20.98\n2011-12-12, Close, 20.82\n2011-12-13, Close, 21.03\n2011-12-14, Close, 20.89\n2011-12-15, Close, 20.86\n2011-12-16, Close, 21.22\n2011-12-19, Close, 20.84\n2011-12-20, Close, 21.25\n2011-12-21, Close, 21.03\n2011-12-22, Close, 21.07\n2011-12-23, Close, 21.25\n2011-12-27, Close, 21.25\n2011-12-28, Close, 21.07\n2011-12-29, Close, 21.24\n2011-12-30, Close, 21.19\n2012-01-03, Close, 21.85\n2012-01-04, Close, 22.36\n2012-01-05, Close, 22.59\n2012-01-06, Close, 22.94\n2012-01-09, Close, 22.64\n2012-01-10, Close, 22.72\n2012-01-11, Close, 22.62\n2012-01-12, Close, 22.85\n2012-01-13, Close, 23.06\n2012-01-17, Close, 23.07\n2012-01-18, Close, 23.04\n2012-01-19, Close, 22.95\n2012-01-20, Close, 24.25\n2012-01-23, Close, 24.27\n2012-01-24, Close, 23.95\n2012-01-25, Close, 24.13\n2012-01-26, Close, 24.08\n2012-01-27, Close, 23.86\n2012-01-30, Close, 24.17\n2012-01-31, Close, 24.10\n2012-02-01, Close, 24.40\n2012-02-02, Close, 24.44\n2012-02-03, Close, 24.68\n2012-02-06, Close, 24.65\n2012-02-07, Close, 24.77\n2012-02-08, Close, 25.02\n2012-02-09, Close, 25.11\n2012-02-10, Close, 24.89\n2012-02-13, Close, 24.96\n2012-02-14, Close, 24.85\n2012-02-15, Close, 24.69\n2012-02-16, Close, 25.71\n2012-02-17, Close, 25.67\n2012-02-21, Close, 25.83\n2012-02-22, Close, 25.69\n2012-02-23, Close, 25.77\n2012-02-24, Close, 25.86\n2012-02-27, Close, 25.76\n2012-02-28, Close, 26.18\n2012-02-29, Close, 26.08\n2012-03-01, Close, 26.53\n2012-03-02, Close, 26.36\n2012-03-05, Close, 26.13\n2012-03-06, Close, 25.93\n2012-03-07, Close, 26.16\n2012-03-08, Close, 26.30\n2012-03-09, Close, 26.28\n2012-03-12, Close, 26.32\n2012-03-13, Close, 26.84\n2012-03-14, Close, 26.92\n2012-03-15, Close, 26.99\n2012-03-16, Close, 26.78\n2012-03-19, Close, 26.45\n2012-03-20, Close, 26.28\n2012-03-21, Close, 26.22\n2012-03-22, Close, 26.29\n2012-03-23, Close, 26.30\n2012-03-26, Close, 26.77\n2012-03-27, Close, 26.72\n2012-03-28, Close, 26.45\n2012-03-29, Close, 26.39\n2012-03-30, Close, 26.50\n2012-04-02, Close, 26.53\n2012-04-03, Close, 26.24\n2012-04-04, Close, 25.64\n2012-04-05, Close, 25.90\n2012-04-09, Close, 25.55\n2012-04-10, Close, 25.03\n2012-04-11, Close, 24.93\n2012-04-12, Close, 25.45\n2012-04-13, Close, 25.31\n2012-04-16, Close, 25.53\n2012-04-17, Close, 25.83\n2012-04-18, Close, 25.58\n2012-04-19, Close, 25.48\n2012-04-20, Close, 26.64\n2012-04-23, Close, 26.39\n2012-04-24, Close, 26.22\n2012-04-25, Close, 26.45\n2012-04-26, Close, 26.38\n2012-04-27, Close, 26.27\n2012-04-30, Close, 26.31\n2012-05-01, Close, 26.30\n2012-05-02, Close, 26.13\n2012-05-03, Close, 26.09\n2012-05-04, Close, 25.45\n2012-05-07, Close, 25.18\n2012-05-08, Close, 25.06\n2012-05-09, Close, 25.27\n2012-05-10, Close, 25.25\n2012-05-11, Close, 25.60\n2012-05-14, Close, 25.21\n2012-05-15, Close, 24.98\n2012-05-16, Close, 24.73\n2012-05-17, Close, 24.58\n2012-05-18, Close, 24.21\n2012-05-21, Close, 24.60\n2012-05-22, Close, 24.61\n2012-05-23, Close, 24.07\n2012-05-24, Close, 24.04\n2012-05-25, Close, 24.03\n2012-05-29, Close, 24.44\n2012-05-30, Close, 24.26\n2012-05-31, Close, 24.14\n2012-06-01, Close, 23.53\n2012-06-04, Close, 23.61\n2012-06-05, Close, 23.58\n2012-06-06, Close, 24.27\n2012-06-07, Close, 24.17\n2012-06-08, Close, 24.52\n2012-06-11, Close, 23.90\n2012-06-12, Close, 24.22\n2012-06-13, Close, 24.09\n2012-06-14, Close, 24.26\n2012-06-15, Close, 24.83\n2012-06-18, Close, 24.68\n2012-06-19, Close, 25.39\n2012-06-20, Close, 25.58\n2012-06-21, Close, 24.92\n2012-06-22, Close, 25.39\n2012-06-25, Close, 24.70\n2012-06-26, Close, 24.83\n2012-06-27, Close, 24.95\n2012-06-28, Close, 24.73\n2012-06-29, Close, 25.30\n2012-07-02, Close, 25.27\n2012-07-03, Close, 25.44\n2012-07-05, Close, 25.39\n2012-07-06, Close, 24.97\n2012-07-09, Close, 24.81\n2012-07-10, Close, 24.59\n2012-07-11, Close, 24.23\n2012-07-12, Close, 23.68\n2012-07-13, Close, 24.30\n2012-07-16, Close, 24.35\n2012-07-17, Close, 24.53\n2012-07-18, Close, 25.18\n2012-07-19, Close, 25.36\n2012-07-20, Close, 24.91\n2012-07-23, Close, 24.21\n2012-07-24, Close, 24.11\n2012-07-25, Close, 23.84\n2012-07-26, Close, 24.11\n2012-07-27, Close, 24.61\n2012-07-30, Close, 24.51\n2012-07-31, Close, 24.37\n2012-08-01, Close, 24.32\n2012-08-02, Close, 24.14\n2012-08-03, Close, 24.60\n2012-08-06, Close, 24.77\n2012-08-07, Close, 25.02\n2012-08-08, Close, 25.08\n2012-08-09, Close, 25.22\n2012-08-10, Close, 25.16\n2012-08-13, Close, 25.13\n2012-08-14, Close, 25.08\n2012-08-15, Close, 25.14\n2012-08-16, Close, 25.62\n2012-08-17, Close, 25.72\n2012-08-20, Close, 25.59\n2012-08-21, Close, 25.64\n2012-08-22, Close, 25.42\n2012-08-23, Close, 25.19\n2012-08-24, Close, 25.44\n2012-08-27, Close, 25.55\n2012-08-28, Close, 25.50\n2012-08-29, Close, 25.51\n2012-08-30, Close, 25.24\n2012-08-31, Close, 25.66\n2012-09-04, Close, 25.30\n2012-09-05, Close, 25.30\n2012-09-06, Close, 26.10\n2012-09-07, Close, 25.76\n2012-09-10, Close, 25.57\n2012-09-11, Close, 25.63\n2012-09-12, Close, 25.62\n2012-09-13, Close, 25.76\n2012-09-14, Close, 25.98\n2012-09-17, Close, 25.98\n2012-09-18, Close, 25.96\n2012-09-19, Close, 25.85\n2012-09-20, Close, 26.18\n2012-09-21, Close, 25.96\n2012-09-24, Close, 25.62\n2012-09-25, Close, 25.30\n2012-09-26, Close, 25.11\n2012-09-27, Close, 25.11\n2012-09-28, Close, 24.77\n2012-10-01, Close, 24.55\n2012-10-02, Close, 24.69\n2012-10-03, Close, 24.86\n2012-10-04, Close, 25.00\n2012-10-05, Close, 24.85\n2012-10-08, Close, 24.79\n2012-10-09, Close, 24.37\n2012-10-10, Close, 24.12\n2012-10-11, Close, 24.10\n2012-10-12, Close, 24.31\n2012-10-15, Close, 24.57\n2012-10-16, Close, 24.55\n2012-10-17, Close, 24.63\n2012-10-18, Close, 24.56\n2012-10-19, Close, 23.84\n2012-10-22, Close, 23.31\n2012-10-23, Close, 23.35\n2012-10-24, Close, 23.22\n2012-10-25, Close, 23.21\n2012-10-26, Close, 23.48\n2012-10-31, Close, 23.76\n2012-11-01, Close, 24.57\n2012-11-02, Close, 24.56\n2012-11-05, Close, 24.67\n2012-11-06, Close, 24.86\n2012-11-07, Close, 24.21\n2012-11-08, Close, 23.98\n2012-11-09, Close, 24.00\n2012-11-12, Close, 23.49\n2012-11-13, Close, 22.74\n2012-11-14, Close, 22.53\n2012-11-15, Close, 22.38\n2012-11-16, Close, 22.26\n2012-11-19, Close, 22.43\n2012-11-20, Close, 22.42\n2012-11-21, Close, 22.62\n2012-11-23, Close, 23.25\n2012-11-26, Close, 22.99\n2012-11-27, Close, 22.73\n2012-11-28, Close, 22.96\n2012-11-29, Close, 22.62\n2012-11-30, Close, 22.34\n2012-12-03, Close, 22.18\n2012-12-04, Close, 22.13\n2012-12-05, Close, 22.38\n2012-12-06, Close, 22.43\n2012-12-07, Close, 22.21\n2012-12-10, Close, 22.61\n2012-12-11, Close, 22.93\n2012-12-12, Close, 22.86\n2012-12-13, Close, 22.75\n2012-12-14, Close, 22.50\n2012-12-17, Close, 22.74\n2012-12-18, Close, 23.13\n2012-12-19, Close, 22.92\n2012-12-20, Close, 23.23\n2012-12-21, Close, 23.04\n2012-12-24, Close, 22.71\n2012-12-26, Close, 22.54\n2012-12-27, Close, 22.63\n2012-12-28, Close, 22.28\n"
     ]
    },
    {
     "output_type": "execute_result",
     "data": {
      "text/plain": [
       "[<__main__.PrintClose at 0x7fb488b32cd0>]"
      ]
     },
     "metadata": {},
     "execution_count": 9
    }
   ],
   "source": [
    "import backtrader as bt\n",
    "\n",
    "class PrintClose(bt.Strategy):\n",
    "\n",
    "    def __init__(self):\n",
    "        #Keep a reference to the \"close\" line in the data[0] dataseries\n",
    "        self.dataclose = self.datas[0].close\n",
    "\n",
    "    def log(self, txt, dt=None):\n",
    "        ''' Logging function for this strategy'''\n",
    "        dt = dt or self.datas[0].datetime.date(0)\n",
    "        print('%s, %s' % (dt.isoformat(), txt))\n",
    "\n",
    "    def next(self):\n",
    "        self.log('Close, %.2f' % self.dataclose[0])\n",
    "\n",
    "\n",
    "#Instantiate Cerebro engine\n",
    "cerebro = bt.Cerebro()\n",
    "\n",
    "#Add data feed to Cerebro\n",
    "data = bt.feeds.YahooFinanceData(dataname='MSFT', fromdate=datetime(2011, 1, 1),\n",
    "                                  todate=datetime(2012, 12, 31))\n",
    "cerebro.adddata(data)\n",
    "\n",
    "## Add your own data, the data is supposed to be under current working foler \n",
    "#data = bt.feeds.YahooFinanceCSVData(dataname='TSLA.csv') \n",
    "#cerebro.adddata(data) \n",
    "\n",
    "\n",
    "#Add strategy to Cerebro\n",
    "cerebro.addstrategy(PrintClose)\n",
    "\n",
    "#Run Cerebro Engine\n",
    "cerebro.run()"
   ]
  },
  {
   "cell_type": "code",
   "execution_count": null,
   "metadata": {},
   "outputs": [],
   "source": []
  }
 ]
}